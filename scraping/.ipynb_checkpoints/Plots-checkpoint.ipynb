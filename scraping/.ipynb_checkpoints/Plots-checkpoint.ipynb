{
 "cells": [
  {
   "cell_type": "code",
   "execution_count": 1,
   "id": "65ac00e4",
   "metadata": {},
   "outputs": [],
   "source": [
    "import pandas as pd\n",
    "\n",
    "# Load the CSV file\n",
    "data = pd.read_csv(\"phones.csv\")"
   ]
  },
  {
   "cell_type": "code",
   "execution_count": 2,
   "id": "4e749224",
   "metadata": {},
   "outputs": [],
   "source": [
    "columns_to_drop = [\"Image Link 1\", \"Image Link 2\", \"Expert Comment\"]\n",
    "data = data.drop(columns_to_drop, axis=1)"
   ]
  },
  {
   "cell_type": "code",
   "execution_count": 3,
   "id": "183b1288",
   "metadata": {},
   "outputs": [
    {
     "data": {
      "text/html": [
       "<div>\n",
       "<style scoped>\n",
       "    .dataframe tbody tr th:only-of-type {\n",
       "        vertical-align: middle;\n",
       "    }\n",
       "\n",
       "    .dataframe tbody tr th {\n",
       "        vertical-align: top;\n",
       "    }\n",
       "\n",
       "    .dataframe thead th {\n",
       "        text-align: right;\n",
       "    }\n",
       "</style>\n",
       "<table border=\"1\" class=\"dataframe\">\n",
       "  <thead>\n",
       "    <tr style=\"text-align: right;\">\n",
       "      <th></th>\n",
       "      <th>Phone Name</th>\n",
       "      <th>Price</th>\n",
       "      <th>Performance</th>\n",
       "      <th>Display</th>\n",
       "      <th>Camera</th>\n",
       "      <th>Battery</th>\n",
       "    </tr>\n",
       "  </thead>\n",
       "  <tbody>\n",
       "    <tr>\n",
       "      <th>0</th>\n",
       "      <td>Samsung Galaxy S23 Ultra 5G</td>\n",
       "      <td>104999</td>\n",
       "      <td>Octa core (3.36 GHz, Single Core + 2.8 GHz, Qu...</td>\n",
       "      <td>6.8 inches (17.27 cm)\\n501 PPI, Dynamic AMOLED...</td>\n",
       "      <td>200 + 12 + 10 + 10 MP Quad Primary Cameras\\nLE...</td>\n",
       "      <td>5000 mAh\\nFast Charging\\nUSB Type-C Port\\n</td>\n",
       "    </tr>\n",
       "  </tbody>\n",
       "</table>\n",
       "</div>"
      ],
      "text/plain": [
       "                    Phone Name   Price  \\\n",
       "0  Samsung Galaxy S23 Ultra 5G  104999   \n",
       "\n",
       "                                         Performance  \\\n",
       "0  Octa core (3.36 GHz, Single Core + 2.8 GHz, Qu...   \n",
       "\n",
       "                                             Display  \\\n",
       "0  6.8 inches (17.27 cm)\\n501 PPI, Dynamic AMOLED...   \n",
       "\n",
       "                                              Camera  \\\n",
       "0  200 + 12 + 10 + 10 MP Quad Primary Cameras\\nLE...   \n",
       "\n",
       "                                      Battery  \n",
       "0  5000 mAh\\nFast Charging\\nUSB Type-C Port\\n  "
      ]
     },
     "execution_count": 3,
     "metadata": {},
     "output_type": "execute_result"
    }
   ],
   "source": [
    "data.head(1)"
   ]
  },
  {
   "cell_type": "code",
   "execution_count": 4,
   "id": "81044815",
   "metadata": {},
   "outputs": [
    {
     "data": {
      "text/plain": [
       "(44, 6)"
      ]
     },
     "execution_count": 4,
     "metadata": {},
     "output_type": "execute_result"
    }
   ],
   "source": [
    "data.shape"
   ]
  },
  {
   "cell_type": "markdown",
   "id": "6e22b5a1",
   "metadata": {},
   "source": [
    "## Performance"
   ]
  },
  {
   "cell_type": "code",
   "execution_count": 5,
   "id": "9ed5ed37",
   "metadata": {},
   "outputs": [],
   "source": [
    "performance_df=data.copy()\n",
    "columns_to_drop = list(performance_df.columns)"
   ]
  },
  {
   "cell_type": "code",
   "execution_count": 6,
   "id": "ad15387d",
   "metadata": {},
   "outputs": [],
   "source": [
    "performance_df[['Core', 'Processor', 'RAM']] = performance_df['Performance'].str.split('\\n', expand=True).iloc[:,:-1]\n",
    "performance_df = performance_df.drop(columns_to_drop, axis=1)"
   ]
  },
  {
   "cell_type": "code",
   "execution_count": 9,
   "id": "8c5a1253",
   "metadata": {},
   "outputs": [
    {
     "data": {
      "text/plain": [
       "array(['Snapdragon 8 Gen 2', 'Apple A16 Bionic',\n",
       "       'MediaTek Dimensity 9200', 'Google Tensor G2',\n",
       "       'MediaTek Dimensity 9000 Plus', 'Apple A15 Bionic',\n",
       "       'Snapdragon 8 Plus Gen 1', 'Snapdragon 8 Gen 1',\n",
       "       'MediaTek Dimensity 9000', 'MediaTek Dimensity 7050',\n",
       "       'Snapdragon 888', 'Snapdragon 888 Plus', 'MediaTek Dimensity 8100',\n",
       "       'MediaTek Dimensity 8100 Max', 'Snapdragon 870',\n",
       "       'MediaTek Dimensity 920', 'MediaTek Dimensity 1200'], dtype=object)"
      ]
     },
     "execution_count": 9,
     "metadata": {},
     "output_type": "execute_result"
    }
   ],
   "source": [
    "performance_df[\"Processor\"].unique()"
   ]
  },
  {
   "cell_type": "code",
   "execution_count": null,
   "id": "62ddbe73",
   "metadata": {},
   "outputs": [],
   "source": [
    "def calculate_phone_score(core, processor, ram):\n",
    "    # Define a dictionary to assign points based on processors\n",
    "    processor_scores = {\n",
    "        'Snapdragon 8 Gen 2':1, \n",
    "        'Apple A16 Bionic':5,\n",
    "       'MediaTek Dimensity 9200':2, \n",
    "        'Google Tensor G2':3,\n",
    "       'MediaTek Dimensity 9000 Plus':2,\n",
    "        'Apple A15 Bionic':4.5,\n",
    "       'Snapdragon 8 Plus Gen 1':5, \n",
    "        'Snapdragon 8 Gen 1':4,\n",
    "       'MediaTek Dimensity 9000':3,\n",
    "        'MediaTek Dimensity 7050':3,\n",
    "       'Snapdragon 888':3.5,\n",
    "        'Snapdragon 888 Plus':4,\n",
    "        'MediaTek Dimensity 8100':3,\n",
    "       'MediaTek Dimensity 8100 Max':3.5,\n",
    "        'Snapdragon 870':3.5,\n",
    "       'MediaTek Dimensity 920':2,\n",
    "        'MediaTek Dimensity 1200':2.5,\n",
    "        # Add more processors and their scores as needed\n",
    "    }\n",
    "\n",
    "    # Assign base scores based on core count and RAM size\n",
    "    core_score = 0\n",
    "    if 'Octa core' in core:\n",
    "        core_score = 4\n",
    "    elif 'Hexa core' in core:\n",
    "        core_score = 3\n",
    "    elif 'Quad core' in core:\n",
    "        core_score = 2\n",
    "    elif 'Dual core' in core:\n",
    "        core_score = 1\n",
    "\n",
    "    ram_score = 0\n",
    "    if '12 GB' in ram:\n",
    "        ram_score = 4\n",
    "    elif '8 GB' in ram:\n",
    "        ram_score = 3\n",
    "    elif '6 GB' in ram:\n",
    "        ram_score = 2\n",
    "    elif '4 GB' in ram:\n",
    "        ram_score = 1\n",
    "\n",
    "    # Get additional processor score from the dictionary\n",
    "    processor_score = processor_scores.get(processor, 0)\n",
    "\n",
    "    # Calculate the total score\n",
    "    total_score = core_score + ram_score + processor_score\n",
    "    return total_score\n",
    "\n",
    "# Apply the function to the DataFrame to calculate the scores\n",
    "data['Performance_Score'] = performance_df.apply(lambda row: calculate_phone_score(row['Core'], row['Processor'], row['RAM']), axis=1)"
   ]
  },
  {
   "cell_type": "markdown",
   "id": "630b2cde",
   "metadata": {},
   "source": [
    "## Display"
   ]
  },
  {
   "cell_type": "code",
   "execution_count": null,
   "id": "f21a983a",
   "metadata": {},
   "outputs": [],
   "source": [
    "display_df=data.copy()\n",
    "columns_to_drop = list(display_df.columns)"
   ]
  },
  {
   "cell_type": "code",
   "execution_count": null,
   "id": "b71d8d2d",
   "metadata": {},
   "outputs": [],
   "source": [
    "display_df[['Size', 'Screen_Type', 'Refresh_Rate']]=display_df['Display'].str.split('\\n', expand=True).iloc[:,:-1]\n",
    "display_df = display_df.drop(columns_to_drop, axis=1)"
   ]
  },
  {
   "cell_type": "code",
   "execution_count": null,
   "id": "b29472e0",
   "metadata": {},
   "outputs": [],
   "source": [
    "def calculate_display_score(size, screen_type, refresh_rate):\n",
    "    # Score based on screen size (larger screen size gets higher score)\n",
    "    size_score = float(size.split()[0])\n",
    "    \n",
    "    # Score based on screen type (higher PPI gets higher score, AMOLED screen gets additional points)\n",
    "    try:\n",
    "        ppi = float(screen_type.split()[0])\n",
    "        screen_type_score = ppi / 100  # Scale down PPI to be in a reasonable range\n",
    "        if 'AMOLED' in screen_type.upper():\n",
    "            screen_type_score += 5  # Additional points for AMOLED screen\n",
    "        elif 'OLED' in screen_type.upper():\n",
    "            screen_type_score += 3     \n",
    "    except (ValueError, IndexError):\n",
    "        screen_type_score = 0\n",
    "    \n",
    "    # Score based on refresh rate (higher refresh rate gets higher score)\n",
    "    refresh_rate_score = 0\n",
    "    if '90 Hz' in refresh_rate:\n",
    "        refresh_rate_score = 1\n",
    "    elif '120 Hz' in refresh_rate:\n",
    "        refresh_rate_score = 2\n",
    "    elif '144 Hz' in refresh_rate:\n",
    "        refresh_rate_score = 3    \n",
    "    \n",
    "    \n",
    "    # Calculate the total score\n",
    "    total_score = size_score + screen_type_score + refresh_rate_score\n",
    "    return total_score\n",
    "\n",
    "# Apply the function to the DataFrame to calculate the scores\n",
    "data['Display_Score'] = display_df.apply(lambda row: calculate_display_score(row['Size'], row['Screen_Type'], row['Refresh_Rate']), axis=1)"
   ]
  },
  {
   "cell_type": "markdown",
   "id": "8393dd79",
   "metadata": {},
   "source": [
    "## Battery"
   ]
  },
  {
   "cell_type": "code",
   "execution_count": null,
   "id": "f85f14fe",
   "metadata": {},
   "outputs": [],
   "source": [
    "# df=data\n",
    "# columns_to_drop = list(df.columns)"
   ]
  },
  {
   "cell_type": "code",
   "execution_count": null,
   "id": "054b32b6",
   "metadata": {},
   "outputs": [],
   "source": [
    "# df[['Capacity', 'Charge_Type']]=df['Battery'].str.split('\\n', expand=True).iloc[:,:-2]\n",
    "# df = df.drop(columns_to_drop, axis=1)"
   ]
  },
  {
   "cell_type": "code",
   "execution_count": null,
   "id": "2c39cbed",
   "metadata": {},
   "outputs": [],
   "source": [
    "# data.shape"
   ]
  },
  {
   "cell_type": "markdown",
   "id": "fa5a366d",
   "metadata": {},
   "source": [
    "## Camera"
   ]
  },
  {
   "cell_type": "markdown",
   "id": "c47cad27",
   "metadata": {},
   "source": [
    "## Normalization"
   ]
  },
  {
   "cell_type": "code",
   "execution_count": null,
   "id": "cd32874d",
   "metadata": {},
   "outputs": [],
   "source": [
    "def min_max_scaling(column):\n",
    "    min_val = column.min()\n",
    "    max_val = column.max()\n",
    "    normalized_column = (column - min_val) / (max_val - min_val)\n",
    "    return (normalized_column*5).round(2)\n",
    "\n",
    "# Apply the min-max scaling function to the 'Column1' and store the result in a new column\n",
    "data['Performance_Score'] = min_max_scaling(data['Performance_Score'])\n",
    "data['Display_Score'] = min_max_scaling(data['Display_Score'])"
   ]
  },
  {
   "cell_type": "code",
   "execution_count": null,
   "id": "6f8b26af",
   "metadata": {},
   "outputs": [],
   "source": [
    "data"
   ]
  },
  {
   "cell_type": "code",
   "execution_count": null,
   "id": "68b2896d",
   "metadata": {},
   "outputs": [],
   "source": [
    "import pandas as pd\n",
    "import seaborn as sns\n",
    "import matplotlib.pyplot as plt\n",
    "\n",
    "plt.figure(figsize=(18,16))\n",
    "sns.scatterplot(x='Performance_Score', y='Display_Score', data=data, hue='Phone Name', s=100, palette='Set1')\n",
    "plt.title('Tradeoff between Performance and Display')\n",
    "plt.xlabel('Performance')\n",
    "plt.ylabel('Display')\n",
    "plt.legend(title='Phone', bbox_to_anchor=(1, 1))\n",
    "plt.grid(True)\n",
    "plt.show()"
   ]
  },
  {
   "cell_type": "code",
   "execution_count": null,
   "id": "422c45a0",
   "metadata": {},
   "outputs": [],
   "source": []
  }
 ],
 "metadata": {
  "kernelspec": {
   "display_name": "Python 3 (ipykernel)",
   "language": "python",
   "name": "python3"
  },
  "language_info": {
   "codemirror_mode": {
    "name": "ipython",
    "version": 3
   },
   "file_extension": ".py",
   "mimetype": "text/x-python",
   "name": "python",
   "nbconvert_exporter": "python",
   "pygments_lexer": "ipython3",
   "version": "3.9.7"
  }
 },
 "nbformat": 4,
 "nbformat_minor": 5
}
